{
 "cells": [
  {
   "cell_type": "code",
   "execution_count": 1,
   "metadata": {},
   "outputs": [],
   "source": [
    "#This notebook is used to answer the Questions #1\n",
    "# Which neighborhood are most popular for Airbnb Locations? (Where are most of the Airbnb locations being offered)?\n",
    "# Potential for improvement could be to display the percentage distribution in the form of a map of Berlin"
   ]
  },
  {
   "cell_type": "code",
   "execution_count": 2,
   "metadata": {},
   "outputs": [
    {
     "data": {
      "text/html": [
       "<div>\n",
       "<style scoped>\n",
       "    .dataframe tbody tr th:only-of-type {\n",
       "        vertical-align: middle;\n",
       "    }\n",
       "\n",
       "    .dataframe tbody tr th {\n",
       "        vertical-align: top;\n",
       "    }\n",
       "\n",
       "    .dataframe thead th {\n",
       "        text-align: right;\n",
       "    }\n",
       "</style>\n",
       "<table border=\"1\" class=\"dataframe\">\n",
       "  <thead>\n",
       "    <tr style=\"text-align: right;\">\n",
       "      <th></th>\n",
       "      <th>id</th>\n",
       "      <th>name</th>\n",
       "      <th>host_id</th>\n",
       "      <th>host_name</th>\n",
       "      <th>neighbourhood_group</th>\n",
       "      <th>neighbourhood</th>\n",
       "      <th>latitude</th>\n",
       "      <th>longitude</th>\n",
       "      <th>room_type</th>\n",
       "      <th>price</th>\n",
       "      <th>minimum_nights</th>\n",
       "      <th>number_of_reviews</th>\n",
       "      <th>last_review</th>\n",
       "      <th>reviews_per_month</th>\n",
       "      <th>calculated_host_listings_count</th>\n",
       "      <th>availability_365</th>\n",
       "    </tr>\n",
       "  </thead>\n",
       "  <tbody>\n",
       "    <tr>\n",
       "      <th>0</th>\n",
       "      <td>1944</td>\n",
       "      <td>cafeheaven Pberg/Mitte</td>\n",
       "      <td>2164</td>\n",
       "      <td>Lulah</td>\n",
       "      <td>Mitte</td>\n",
       "      <td>Brunnenstr. Nord</td>\n",
       "      <td>52.54425</td>\n",
       "      <td>13.39749</td>\n",
       "      <td>Private room</td>\n",
       "      <td>21</td>\n",
       "      <td>60</td>\n",
       "      <td>18</td>\n",
       "      <td>2018-11-11</td>\n",
       "      <td>0.24</td>\n",
       "      <td>1</td>\n",
       "      <td>251</td>\n",
       "    </tr>\n",
       "    <tr>\n",
       "      <th>1</th>\n",
       "      <td>3176</td>\n",
       "      <td>Fabulous Flat in great Location</td>\n",
       "      <td>3718</td>\n",
       "      <td>Britta</td>\n",
       "      <td>Pankow</td>\n",
       "      <td>Prenzlauer Berg Südwest</td>\n",
       "      <td>52.53500</td>\n",
       "      <td>13.41758</td>\n",
       "      <td>Entire home/apt</td>\n",
       "      <td>90</td>\n",
       "      <td>62</td>\n",
       "      <td>145</td>\n",
       "      <td>2019-06-27</td>\n",
       "      <td>1.14</td>\n",
       "      <td>1</td>\n",
       "      <td>344</td>\n",
       "    </tr>\n",
       "    <tr>\n",
       "      <th>2</th>\n",
       "      <td>3309</td>\n",
       "      <td>BerlinSpot Schöneberg near KaDeWe</td>\n",
       "      <td>4108</td>\n",
       "      <td>Jana</td>\n",
       "      <td>Tempelhof - Schöneberg</td>\n",
       "      <td>Schöneberg-Nord</td>\n",
       "      <td>52.49885</td>\n",
       "      <td>13.34906</td>\n",
       "      <td>Private room</td>\n",
       "      <td>28</td>\n",
       "      <td>7</td>\n",
       "      <td>27</td>\n",
       "      <td>2019-05-31</td>\n",
       "      <td>0.35</td>\n",
       "      <td>1</td>\n",
       "      <td>317</td>\n",
       "    </tr>\n",
       "    <tr>\n",
       "      <th>3</th>\n",
       "      <td>6883</td>\n",
       "      <td>Stylish East Side Loft in Center with AC &amp; 2 b...</td>\n",
       "      <td>16149</td>\n",
       "      <td>Steffen</td>\n",
       "      <td>Friedrichshain-Kreuzberg</td>\n",
       "      <td>Frankfurter Allee Süd FK</td>\n",
       "      <td>52.51171</td>\n",
       "      <td>13.45477</td>\n",
       "      <td>Entire home/apt</td>\n",
       "      <td>125</td>\n",
       "      <td>3</td>\n",
       "      <td>128</td>\n",
       "      <td>2019-10-21</td>\n",
       "      <td>1.08</td>\n",
       "      <td>1</td>\n",
       "      <td>20</td>\n",
       "    </tr>\n",
       "    <tr>\n",
       "      <th>4</th>\n",
       "      <td>7071</td>\n",
       "      <td>BrightRoom with sunny greenview!</td>\n",
       "      <td>17391</td>\n",
       "      <td>BrightRoom</td>\n",
       "      <td>Pankow</td>\n",
       "      <td>Helmholtzplatz</td>\n",
       "      <td>52.54316</td>\n",
       "      <td>13.41509</td>\n",
       "      <td>Private room</td>\n",
       "      <td>33</td>\n",
       "      <td>3</td>\n",
       "      <td>266</td>\n",
       "      <td>2019-11-09</td>\n",
       "      <td>2.13</td>\n",
       "      <td>2</td>\n",
       "      <td>30</td>\n",
       "    </tr>\n",
       "  </tbody>\n",
       "</table>\n",
       "</div>"
      ],
      "text/plain": [
       "     id                                               name  host_id  \\\n",
       "0  1944                             cafeheaven Pberg/Mitte     2164   \n",
       "1  3176                    Fabulous Flat in great Location     3718   \n",
       "2  3309                  BerlinSpot Schöneberg near KaDeWe     4108   \n",
       "3  6883  Stylish East Side Loft in Center with AC & 2 b...    16149   \n",
       "4  7071                   BrightRoom with sunny greenview!    17391   \n",
       "\n",
       "    host_name       neighbourhood_group             neighbourhood  latitude  \\\n",
       "0       Lulah                     Mitte          Brunnenstr. Nord  52.54425   \n",
       "1      Britta                    Pankow   Prenzlauer Berg Südwest  52.53500   \n",
       "2        Jana    Tempelhof - Schöneberg           Schöneberg-Nord  52.49885   \n",
       "3     Steffen  Friedrichshain-Kreuzberg  Frankfurter Allee Süd FK  52.51171   \n",
       "4  BrightRoom                    Pankow            Helmholtzplatz  52.54316   \n",
       "\n",
       "   longitude        room_type  price  minimum_nights  number_of_reviews  \\\n",
       "0   13.39749     Private room     21              60                 18   \n",
       "1   13.41758  Entire home/apt     90              62                145   \n",
       "2   13.34906     Private room     28               7                 27   \n",
       "3   13.45477  Entire home/apt    125               3                128   \n",
       "4   13.41509     Private room     33               3                266   \n",
       "\n",
       "  last_review  reviews_per_month  calculated_host_listings_count  \\\n",
       "0  2018-11-11               0.24                               1   \n",
       "1  2019-06-27               1.14                               1   \n",
       "2  2019-05-31               0.35                               1   \n",
       "3  2019-10-21               1.08                               1   \n",
       "4  2019-11-09               2.13                               2   \n",
       "\n",
       "   availability_365  \n",
       "0               251  \n",
       "1               344  \n",
       "2               317  \n",
       "3                20  \n",
       "4                30  "
      ]
     },
     "execution_count": 2,
     "metadata": {},
     "output_type": "execute_result"
    }
   ],
   "source": [
    "import pandas as pd\n",
    "import numpy as np\n",
    "import matplotlib.pyplot as plt\n",
    "from sklearn.linear_model import LinearRegression\n",
    "from sklearn.model_selection import train_test_split\n",
    "from sklearn.metrics import r2_score, mean_squared_error\n",
    "\n",
    "listing = pd.read_csv('listings.csv') #reading the listings dataset in a datafram called 'listing'\n",
    "listing.head() #displaying the enteries of the dataframe 'listing'"
   ]
  },
  {
   "cell_type": "code",
   "execution_count": 3,
   "metadata": {
    "scrolled": true
   },
   "outputs": [
    {
     "data": {
      "text/plain": [
       "Index(['name', 'host_name', 'last_review', 'reviews_per_month'], dtype='object')"
      ]
     },
     "execution_count": 3,
     "metadata": {},
     "output_type": "execute_result"
    }
   ],
   "source": [
    "listing.columns[listing.isnull().any()] #Column names with null or NAN values"
   ]
  },
  {
   "cell_type": "code",
   "execution_count": 4,
   "metadata": {},
   "outputs": [
    {
     "data": {
      "text/plain": [
       "0.0"
      ]
     },
     "execution_count": 4,
     "metadata": {},
     "output_type": "execute_result"
    }
   ],
   "source": [
    "listing['neighbourhood_group'].isnull().mean() #To check if 'neighbourhood_group' has any null or NAN values or not. Mean of 0.0 means it has no missing (null or NAN) value"
   ]
  },
  {
   "cell_type": "code",
   "execution_count": 5,
   "metadata": {},
   "outputs": [
    {
     "data": {
      "text/plain": [
       "Text(0.5,1,'Total number of Airbnb properties offered in different neighborhoods in Berlin')"
      ]
     },
     "execution_count": 5,
     "metadata": {},
     "output_type": "execute_result"
    },
    {
     "data": {
      "image/png": "[encoded data removed]",
      "text/plain": [
       "<Figure size 432x288 with 1 Axes>"
      ]
     },
     "metadata": {},
     "output_type": "display_data"
    }
   ],
   "source": [
    "listing['neighbourhood_group'].value_counts().plot(kind='bar') # Plot of Airbnb in different neighborhood\n",
    "plt.title('Total number of Airbnb properties offered in different neighborhoods in Berlin') #assigning title to our plot"
   ]
  },
  {
   "cell_type": "code",
   "execution_count": 6,
   "metadata": {},
   "outputs": [
    {
     "data": {
      "text/plain": [
       "Text(0.5,1,'Percentage of Airbnb properties offered in different neighborhoods in Berlin')"
      ]
     },
     "execution_count": 6,
     "metadata": {},
     "output_type": "execute_result"
    },
    {
     "data": {
      "image/png": "[encoded data removed]",
      "text/plain": [
       "<Figure size 432x288 with 1 Axes>"
      ]
     },
     "metadata": {},
     "output_type": "display_data"
    }
   ],
   "source": [
    "popular_neighborhood = (listing['neighbourhood_group'].value_counts(normalize = True) * 100).plot(kind='bar') #This line of code is used to plot the percentage of different neighbourhood groups in Berlin. 'normalize=True' in value_counts() returns the values as percentages. \n",
    "\n",
    "plt.title('Percentage of Airbnb properties offered in different neighborhoods in Berlin') # Percentage of Airbnb in different neighborhood\n"
   ]
  },
  {
   "cell_type": "code",
   "execution_count": 7,
   "metadata": {},
   "outputs": [
    {
     "data": {
      "text/plain": [
       "Friedrichshain-Kreuzberg    0.238713\n",
       "Mitte                       0.206378\n",
       "Pankow                      0.158546\n",
       "Neukölln                    0.150573\n",
       "Charlottenburg-Wilm.        0.073375\n",
       "Tempelhof - Schöneberg      0.067111\n",
       "Lichtenberg                 0.031969\n",
       "Treptow - Köpenick          0.026885\n",
       "Steglitz - Zehlendorf       0.020621\n",
       "Reinickendorf               0.013138\n",
       "Marzahn - Hellersdorf       0.006426\n",
       "Spandau                     0.006264\n",
       "Name: neighbourhood_group, dtype: float64"
      ]
     },
     "execution_count": 7,
     "metadata": {},
     "output_type": "execute_result"
    }
   ],
   "source": [
    "listing['neighbourhood_group'].value_counts(normalize=True) #Displaying different typees neighbourhood groups as a percentage. "
   ]
  },
  {
   "cell_type": "code",
   "execution_count": 8,
   "metadata": {},
   "outputs": [],
   "source": [
    "# So from the above plots, we can conclude that neighbourhood groups like 'Friedrichshain-Kreuzberg', 'Mitte', 'Pankow' and 'Neukölln' are very popular. These are the neighbourhoods where most of the Airbnb locations are being offered. \n",
    "# Almost 75% of all the Airbnb hostings are located in these four neighbourhoods. \n",
    "# So we can conclude that if you are planning to visit Berlin and you are planning to stay in Airbnb accomodation then you can \n",
    "# look for one of the accomodations located in these neighbourhood groups. "
   ]
  },
  {
   "cell_type": "code",
   "execution_count": 9,
   "metadata": {},
   "outputs": [],
   "source": [
    "#Now we will answer Question #2\n",
    "# What is the preferred type of property of Airbnb in Berlin based on the price distribution per 'room_type' of Airbnb in Berlin.\n",
    "# Here in this question we will show the comparison between plotting the mean and the median value."
   ]
  },
  {
   "cell_type": "code",
   "execution_count": 10,
   "metadata": {},
   "outputs": [
    {
     "data": {
      "text/plain": [
       "0.0"
      ]
     },
     "execution_count": 10,
     "metadata": {},
     "output_type": "execute_result"
    }
   ],
   "source": [
    "listing['room_type'].isnull().mean() #Checking if the 'room_type' column contains any NaN values"
   ]
  },
  {
   "cell_type": "code",
   "execution_count": 11,
   "metadata": {},
   "outputs": [
    {
     "data": {
      "text/plain": [
       "Entire home/apt    12381\n",
       "Private room       11616\n",
       "Hotel room           295\n",
       "Shared room          294\n",
       "Name: room_type, dtype: int64"
      ]
     },
     "execution_count": 11,
     "metadata": {},
     "output_type": "execute_result"
    }
   ],
   "source": [
    "different_room_types = listing['room_type'].value_counts() #Checking no. of different type of rooms types in Airbnb Berlin\n",
    "different_room_types"
   ]
  },
  {
   "cell_type": "code",
   "execution_count": 12,
   "metadata": {},
   "outputs": [
    {
     "data": {
      "text/plain": [
       "5760"
      ]
     },
     "execution_count": 12,
     "metadata": {},
     "output_type": "execute_result"
    }
   ],
   "source": [
    "listing['price'].idxmax() #print the index number of the max value in column 'price' (use just .max() to print only the max value in the column)"
   ]
  },
  {
   "cell_type": "code",
   "execution_count": 13,
   "metadata": {},
   "outputs": [
    {
     "name": "stdout",
     "output_type": "stream",
     "text": [
      "           id                              name   host_id host_name  \\\n",
      "5760  9651871  Über den Dächern Berlins Zentrum  49896804       NaN   \n",
      "\n",
      "       neighbourhood_group        neighbourhood  latitude  longitude  \\\n",
      "5760  Charlottenburg-Wilm.  Düsseldorfer Straße  52.49798   13.33444   \n",
      "\n",
      "            room_type  price  minimum_nights  number_of_reviews last_review  \\\n",
      "5760  Entire home/apt   9000             100                  1  2016-01-02   \n",
      "\n",
      "      reviews_per_month  calculated_host_listings_count  availability_365  \n",
      "5760               0.02                               1                 0  \n"
     ]
    }
   ],
   "source": [
    "print(listing.loc[[5760]]) #Code to print any particular index number (print entire row at that index number)"
   ]
  },
  {
   "cell_type": "code",
   "execution_count": 14,
   "metadata": {},
   "outputs": [
    {
     "data": {
      "text/plain": [
       "<matplotlib.axes._subplots.AxesSubplot at 0x20aa26407f0>"
      ]
     },
     "execution_count": 14,
     "metadata": {},
     "output_type": "execute_result"
    },
    {
     "data": {
      "image/png": "[encoded data removed]",
      "text/plain": [
       "<Figure size 432x288 with 1 Axes>"
      ]
     },
     "metadata": {},
     "output_type": "display_data"
    }
   ],
   "source": [
    "Berlin_Median_plot = listing.groupby('room_type').price.median().sort_values(ascending=False).plot(kind='bar')\n",
    "Berlin_Median_plot\n",
    "# This plot shows the median price of room type of Airbnb in Berlin"
   ]
  },
  {
   "cell_type": "code",
   "execution_count": 15,
   "metadata": {},
   "outputs": [
    {
     "data": {
      "text/plain": [
       "<matplotlib.axes._subplots.AxesSubplot at 0x20aa27ae160>"
      ]
     },
     "execution_count": 15,
     "metadata": {},
     "output_type": "execute_result"
    },
    {
     "data": {
      "image/png": "[encoded data removed]",
      "text/plain": [
       "<Figure size 432x288 with 1 Axes>"
      ]
     },
     "metadata": {},
     "output_type": "display_data"
    }
   ],
   "source": [
    "Berlin_Mean_plot = listing.groupby('room_type').price.mean().sort_values(ascending=False).plot(kind='bar')\n",
    "Berlin_Mean_plot\n",
    "# This plot shows the mean price of room type of Airbnb in Berlin"
   ]
  },
  {
   "cell_type": "code",
   "execution_count": 16,
   "metadata": {},
   "outputs": [
    {
     "data": {
      "text/plain": [
       "room_type\n",
       "Hotel room         197\n",
       "Entire home/apt     70\n",
       "Private room        35\n",
       "Shared room         25\n",
       "Name: price, dtype: int64"
      ]
     },
     "execution_count": 16,
     "metadata": {},
     "output_type": "execute_result"
    }
   ],
   "source": [
    "Berlin_Median_values= listing.groupby('room_type').price.median().sort_values(ascending=False)\n",
    "Berlin_Median_values"
   ]
  },
  {
   "cell_type": "code",
   "execution_count": 17,
   "metadata": {},
   "outputs": [
    {
     "data": {
      "text/plain": [
       "room_type\n",
       "Hotel room         770.037288\n",
       "Entire home/apt     85.973912\n",
       "Private room        41.886794\n",
       "Shared room         34.214286\n",
       "Name: price, dtype: float64"
      ]
     },
     "execution_count": 17,
     "metadata": {},
     "output_type": "execute_result"
    }
   ],
   "source": [
    "Berlin_Mean_values = listing.groupby('room_type').price.mean().sort_values(ascending=False)\n",
    "Berlin_Mean_values"
   ]
  },
  {
   "cell_type": "code",
   "execution_count": 18,
   "metadata": {},
   "outputs": [],
   "source": [
    "# So from the above comparison we can see that Mean and Median can have different effects on the overall values. \n",
    "# Sometimes taking the mean of all the values to represent the average might be a good idea and sometimes taking Median is a better approach.\n",
    "# From this example, we saw that when we take the Mean of all the price values of room_type 'Hotel room', it shows a very high number because there\n",
    "# there will be Hotels which costs 2000 per night. These kinds of values are outliers and they disturb the overall outcome and that is why we saw a very high mean value.\n",
    "# On the other hand taking Median proved to be a better approach because it sorts all the values in the ascending manner and takes the middle value, which in this case, is a better representation of the average price.\n",
    "# So to conclude, we can say that based on the scenario, we have to decide what is a better aproach to represent the average."
   ]
  },
  {
   "cell_type": "code",
   "execution_count": 19,
   "metadata": {},
   "outputs": [],
   "source": [
    "#Now we will answer Question #3\n",
    "# What features influence the price. Predict the price using ML model.\n",
    "\n",
    "# In this notebook, we will create a Linear Regression Model to predict the features that influence the price. \n",
    "# We want to know what features are directly related to the price. \n",
    "# We will also perform data cleaning and data wrangling operations before the data can be fed into the model for prediction."
   ]
  },
  {
   "cell_type": "code",
   "execution_count": 20,
   "metadata": {},
   "outputs": [],
   "source": [
    "def clean_data(df):\n",
    "    '''\n",
    "    INPUT\n",
    "    df - pandas dataframe \n",
    "    \n",
    "    OUTPUT\n",
    "    X - A matrix holding all of the features you want to consider when predicting the response\n",
    "    y - the corresponding response vector\n",
    "    \n",
    "    Perform to obtain the correct X and y objects\n",
    "    This function cleans df using the following steps to produce X and y:\n",
    "    1. Drop all the rows with no price\n",
    "    2. Create X as all the columns that are not the price column and that are numeric\n",
    "    3. Create y as the price column\n",
    "    4. Drop the 'id', 'name', 'host_id', 'host_name','neighbourhood', 'latitude', 'longitude', 'price',\n",
    "                'last_review','calculated_host_listings_count', 'availability_365' columns from X\n",
    "    5. For each numeric variable in X, fill the column with the mean value of the column.\n",
    "    6. Create dummy columns for all the categorical variables in X, drop the original columns\n",
    "    7. Return X and y\n",
    "    '''\n",
    "    \n",
    "    #Drop all the rows with no price\n",
    "    df = df.dropna(subset = ['price'], axis = 0)\n",
    "    y = df['price']\n",
    "    \n",
    "    #Drop columns that we do not want to consider \n",
    "    df = df.drop(['id', 'name', 'host_id', 'host_name',\n",
    "                  'neighbourhood', 'latitude', 'longitude', 'price',\n",
    "                  'last_review'], axis = 1)\n",
    "    \n",
    "    \n",
    "    #Fill the mean in the columns where we have some NaN values.\n",
    "    num_vars = df.select_dtypes(include = ['float', 'int']).columns\n",
    "    for col in num_vars:\n",
    "        df[col].fillna((df[col].mean()), inplace = True)\n",
    "        \n",
    "        \n",
    "    #Fill Dummy variables for the categorical columns. \n",
    "    cat_vars = df.select_dtypes(include = ['object']).copy().columns\n",
    "    for var in cat_vars:\n",
    "        df = pd.concat([df.drop(var, axis = 1), pd.get_dummies(df[var], prefix =var, prefix_sep='_', drop_first=False)], axis = 1)\n",
    "        \n",
    "    X = df\n",
    "    return X, y\n",
    "    \n",
    "#Use the function to create X and y\n",
    "X, y = clean_data(listing) "
   ]
  },
  {
   "cell_type": "code",
   "execution_count": 21,
   "metadata": {},
   "outputs": [],
   "source": [
    "#Create Training and Testing data\n",
    "\n",
    "X_train, X_test, y_train, y_test = train_test_split(X, y, test_size=0.3, random_state=42)"
   ]
  },
  {
   "cell_type": "code",
   "execution_count": 22,
   "metadata": {},
   "outputs": [],
   "source": [
    "#Instantiat the Model\n",
    "lm_model = LinearRegression(normalize=False)"
   ]
  },
  {
   "cell_type": "code",
   "execution_count": 23,
   "metadata": {},
   "outputs": [
    {
     "data": {
      "text/plain": [
       "LinearRegression(copy_X=True, fit_intercept=True, n_jobs=1, normalize=False)"
      ]
     },
     "execution_count": 23,
     "metadata": {},
     "output_type": "execute_result"
    }
   ],
   "source": [
    "#Fit the Model\n",
    "\n",
    "lm_model.fit(X_train, y_train)"
   ]
  },
  {
   "cell_type": "code",
   "execution_count": 24,
   "metadata": {},
   "outputs": [],
   "source": [
    "#Predictions\n",
    "y_test_preds = lm_model.predict(X_test)\n",
    "y_train_preds = lm_model.predict(X_train)"
   ]
  },
  {
   "cell_type": "code",
   "execution_count": 25,
   "metadata": {},
   "outputs": [],
   "source": [
    "#Scoring the Model\n",
    "\n",
    "test_score = r2_score(y_test, y_test_preds)\n",
    "train_score = r2_score(y_train, y_train_preds)"
   ]
  },
  {
   "cell_type": "code",
   "execution_count": 26,
   "metadata": {},
   "outputs": [
    {
     "name": "stdout",
     "output_type": "stream",
     "text": [
      "The rsquared on the training data was 0.13998550844860203.  The rsquared on the test data was 0.12438280041842009.\n"
     ]
    }
   ],
   "source": [
    "#Print training and testing score\n",
    "print(\"The rsquared on the training data was {}.  The rsquared on the test data was {}.\".format(train_score, test_score))"
   ]
  },
  {
   "cell_type": "code",
   "execution_count": 27,
   "metadata": {},
   "outputs": [],
   "source": [
    "# From the above results of 'rsquared' values, we can see that our model is not predicting the outcomes in the most appropriate way.\n",
    "# rsquared of almost 13% on both Training and Test datasets shows the limitations of our model. One of the main reasons for this\n",
    "# is that I have used very few features to predict the price. If i Had used more features, i could have achieved better results. \n",
    "# The data set i used for my project is the summarized version and contains only few columns. During data cleaning, i dropped \n",
    "# certain columns that were not useful. "
   ]
  },
  {
   "cell_type": "code",
   "execution_count": 28,
   "metadata": {},
   "outputs": [
    {
     "data": {
      "text/html": [
       "<div>\n",
       "<style scoped>\n",
       "    .dataframe tbody tr th:only-of-type {\n",
       "        vertical-align: middle;\n",
       "    }\n",
       "\n",
       "    .dataframe tbody tr th {\n",
       "        vertical-align: top;\n",
       "    }\n",
       "\n",
       "    .dataframe thead th {\n",
       "        text-align: right;\n",
       "    }\n",
       "</style>\n",
       "<table border=\"1\" class=\"dataframe\">\n",
       "  <thead>\n",
       "    <tr style=\"text-align: right;\">\n",
       "      <th></th>\n",
       "      <th>est_int</th>\n",
       "      <th>coefs</th>\n",
       "      <th>abs_coefs</th>\n",
       "    </tr>\n",
       "  </thead>\n",
       "  <tbody>\n",
       "    <tr>\n",
       "      <th>18</th>\n",
       "      <td>room_type_Hotel room</td>\n",
       "      <td>542.686719</td>\n",
       "      <td>542.686719</td>\n",
       "    </tr>\n",
       "    <tr>\n",
       "      <th>20</th>\n",
       "      <td>room_type_Shared room</td>\n",
       "      <td>-204.264646</td>\n",
       "      <td>204.264646</td>\n",
       "    </tr>\n",
       "    <tr>\n",
       "      <th>19</th>\n",
       "      <td>room_type_Private room</td>\n",
       "      <td>-189.502010</td>\n",
       "      <td>189.502010</td>\n",
       "    </tr>\n",
       "    <tr>\n",
       "      <th>17</th>\n",
       "      <td>room_type_Entire home/apt</td>\n",
       "      <td>-148.920062</td>\n",
       "      <td>148.920062</td>\n",
       "    </tr>\n",
       "    <tr>\n",
       "      <th>13</th>\n",
       "      <td>neighbourhood_group_Spandau</td>\n",
       "      <td>-43.479768</td>\n",
       "      <td>43.479768</td>\n",
       "    </tr>\n",
       "    <tr>\n",
       "      <th>15</th>\n",
       "      <td>neighbourhood_group_Tempelhof - Schöneberg</td>\n",
       "      <td>32.421358</td>\n",
       "      <td>32.421358</td>\n",
       "    </tr>\n",
       "    <tr>\n",
       "      <th>5</th>\n",
       "      <td>neighbourhood_group_Charlottenburg-Wilm.</td>\n",
       "      <td>30.508820</td>\n",
       "      <td>30.508820</td>\n",
       "    </tr>\n",
       "    <tr>\n",
       "      <th>8</th>\n",
       "      <td>neighbourhood_group_Marzahn - Hellersdorf</td>\n",
       "      <td>-16.139100</td>\n",
       "      <td>16.139100</td>\n",
       "    </tr>\n",
       "    <tr>\n",
       "      <th>7</th>\n",
       "      <td>neighbourhood_group_Lichtenberg</td>\n",
       "      <td>-12.915212</td>\n",
       "      <td>12.915212</td>\n",
       "    </tr>\n",
       "    <tr>\n",
       "      <th>9</th>\n",
       "      <td>neighbourhood_group_Mitte</td>\n",
       "      <td>12.097601</td>\n",
       "      <td>12.097601</td>\n",
       "    </tr>\n",
       "    <tr>\n",
       "      <th>12</th>\n",
       "      <td>neighbourhood_group_Reinickendorf</td>\n",
       "      <td>-8.897598</td>\n",
       "      <td>8.897598</td>\n",
       "    </tr>\n",
       "    <tr>\n",
       "      <th>11</th>\n",
       "      <td>neighbourhood_group_Pankow</td>\n",
       "      <td>5.635942</td>\n",
       "      <td>5.635942</td>\n",
       "    </tr>\n",
       "    <tr>\n",
       "      <th>6</th>\n",
       "      <td>neighbourhood_group_Friedrichshain-Kreuzberg</td>\n",
       "      <td>3.840946</td>\n",
       "      <td>3.840946</td>\n",
       "    </tr>\n",
       "    <tr>\n",
       "      <th>14</th>\n",
       "      <td>neighbourhood_group_Steglitz - Zehlendorf</td>\n",
       "      <td>-1.561552</td>\n",
       "      <td>1.561552</td>\n",
       "    </tr>\n",
       "    <tr>\n",
       "      <th>16</th>\n",
       "      <td>neighbourhood_group_Treptow - Köpenick</td>\n",
       "      <td>-1.199834</td>\n",
       "      <td>1.199834</td>\n",
       "    </tr>\n",
       "    <tr>\n",
       "      <th>2</th>\n",
       "      <td>reviews_per_month</td>\n",
       "      <td>-0.885975</td>\n",
       "      <td>0.885975</td>\n",
       "    </tr>\n",
       "    <tr>\n",
       "      <th>10</th>\n",
       "      <td>neighbourhood_group_Neukölln</td>\n",
       "      <td>-0.311602</td>\n",
       "      <td>0.311602</td>\n",
       "    </tr>\n",
       "    <tr>\n",
       "      <th>3</th>\n",
       "      <td>calculated_host_listings_count</td>\n",
       "      <td>0.166534</td>\n",
       "      <td>0.166534</td>\n",
       "    </tr>\n",
       "    <tr>\n",
       "      <th>0</th>\n",
       "      <td>minimum_nights</td>\n",
       "      <td>-0.116693</td>\n",
       "      <td>0.116693</td>\n",
       "    </tr>\n",
       "    <tr>\n",
       "      <th>4</th>\n",
       "      <td>availability_365</td>\n",
       "      <td>0.105213</td>\n",
       "      <td>0.105213</td>\n",
       "    </tr>\n",
       "    <tr>\n",
       "      <th>1</th>\n",
       "      <td>number_of_reviews</td>\n",
       "      <td>-0.058940</td>\n",
       "      <td>0.058940</td>\n",
       "    </tr>\n",
       "  </tbody>\n",
       "</table>\n",
       "</div>"
      ],
      "text/plain": [
       "                                         est_int       coefs   abs_coefs\n",
       "18                          room_type_Hotel room  542.686719  542.686719\n",
       "20                         room_type_Shared room -204.264646  204.264646\n",
       "19                        room_type_Private room -189.502010  189.502010\n",
       "17                     room_type_Entire home/apt -148.920062  148.920062\n",
       "13                   neighbourhood_group_Spandau  -43.479768   43.479768\n",
       "15    neighbourhood_group_Tempelhof - Schöneberg   32.421358   32.421358\n",
       "5       neighbourhood_group_Charlottenburg-Wilm.   30.508820   30.508820\n",
       "8      neighbourhood_group_Marzahn - Hellersdorf  -16.139100   16.139100\n",
       "7                neighbourhood_group_Lichtenberg  -12.915212   12.915212\n",
       "9                      neighbourhood_group_Mitte   12.097601   12.097601\n",
       "12             neighbourhood_group_Reinickendorf   -8.897598    8.897598\n",
       "11                    neighbourhood_group_Pankow    5.635942    5.635942\n",
       "6   neighbourhood_group_Friedrichshain-Kreuzberg    3.840946    3.840946\n",
       "14     neighbourhood_group_Steglitz - Zehlendorf   -1.561552    1.561552\n",
       "16        neighbourhood_group_Treptow - Köpenick   -1.199834    1.199834\n",
       "2                              reviews_per_month   -0.885975    0.885975\n",
       "10                  neighbourhood_group_Neukölln   -0.311602    0.311602\n",
       "3                 calculated_host_listings_count    0.166534    0.166534\n",
       "0                                 minimum_nights   -0.116693    0.116693\n",
       "4                               availability_365    0.105213    0.105213\n",
       "1                              number_of_reviews   -0.058940    0.058940"
      ]
     },
     "execution_count": 28,
     "metadata": {},
     "output_type": "execute_result"
    }
   ],
   "source": [
    "def coef_weights(coefficients, X_train):\n",
    "    '''\n",
    "    INPUT:\n",
    "    coefficients - the coefficients of the linear model \n",
    "    X_train - the training data, so the column names can be used\n",
    "    OUTPUT:\n",
    "    coefs_df - a dataframe holding the coefficient, estimate, and abs(estimate)\n",
    "    \n",
    "    Provides a dataframe that can be used to understand the most influential coefficients\n",
    "    in a linear model by providing the coefficient estimates along with the name of the \n",
    "    variable attached to the coefficient.\n",
    "    '''\n",
    "    coefs_df = pd.DataFrame()\n",
    "    coefs_df['est_int'] = X_train.columns\n",
    "    coefs_df['coefs'] = lm_model.coef_\n",
    "    coefs_df['abs_coefs'] = np.abs(lm_model.coef_)\n",
    "    coefs_df = coefs_df.sort_values('abs_coefs', ascending=False)\n",
    "    return coefs_df\n",
    "\n",
    "#Use the function\n",
    "coef_df = coef_weights(lm_model.coef_, X_train)\n",
    "\n",
    "#A quick look at the results\n",
    "coef_df"
   ]
  },
  {
   "cell_type": "code",
   "execution_count": 29,
   "metadata": {},
   "outputs": [],
   "source": [
    "# From the above results, we can clearly see that the variable/feature 'room_type_Hotelroom' has the highest influence on the price.\n",
    "# This means that 'room_type' will effect the price heavly either in the positive or negative manner that is, it will predict a higher or lower price.\n",
    "# depending on the type of the room. If the 'room_type' is Hotel room then our model will predict ahigher price where as if the 'room_type' is shared room, it will predict\n",
    "# a lessser price. \n",
    "# Anopther factor that effects the price, is the 'neighbourhood_group'. Depending on the type of 'neighbourhood_group' price will predicted either higher or lower.\n",
    "# Neighbourhoods like 'neighbourhood_group_Tempelhof - Schöneberg' will have a positive effect on the prediction of the price and\n",
    "# Neighbourhood like 'neighbourhood_group_Neukölln' will have a negative effect and our model will predict a lesser price.\n",
    "# It can also be seen that other features like, 'minimum_nights', 'availability_365' and 'number_of_reviews' have very less effect on the prediction.\n",
    "\n",
    "# This is the benfit of looking into the coefficients of the model, it tells us which variables/features matter the most in predicting the outcome.\n",
    "# Obviously, if our model had better rsquared results, the coefficients distribution would have been different but the most important thing\n",
    "# is to actually understand why the model behaves in a certain way and what factors can be modified to improve the performance of our model"
   ]
  },
  {
   "cell_type": "code",
   "execution_count": null,
   "metadata": {},
   "outputs": [],
   "source": []
  }
 ],
 "metadata": {
  "kernelspec": {
   "display_name": "Python 3",
   "language": "python",
   "name": "python3"
  },
  "language_info": {
   "codemirror_mode": {
    "name": "ipython",
    "version": 3
   },
   "file_extension": ".py",
   "mimetype": "text/x-python",
   "name": "python",
   "nbconvert_exporter": "python",
   "pygments_lexer": "ipython3",
   "version": "3.6.5"
  }
 },
 "nbformat": 4,
 "nbformat_minor": 2
}
