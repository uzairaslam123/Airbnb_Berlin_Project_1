{
 "cells": [
  {
   "cell_type": "code",
   "execution_count": 1,
   "metadata": {},
   "outputs": [],
   "source": [
    "#This notebook is to answer Question #2\n",
    "# What is the preferred type of property of Airbnb in Berlin based on the price distribution per 'room_type' of Airbnb in Berlin.\n",
    "# Here in this question we will show the comparison between plotting the mean and the median value."
   ]
  },
  {
   "cell_type": "code",
   "execution_count": 2,
   "metadata": {},
   "outputs": [
    {
     "data": {
      "text/html": [
       "<div>\n",
       "<style scoped>\n",
       "    .dataframe tbody tr th:only-of-type {\n",
       "        vertical-align: middle;\n",
       "    }\n",
       "\n",
       "    .dataframe tbody tr th {\n",
       "        vertical-align: top;\n",
       "    }\n",
       "\n",
       "    .dataframe thead th {\n",
       "        text-align: right;\n",
       "    }\n",
       "</style>\n",
       "<table border=\"1\" class=\"dataframe\">\n",
       "  <thead>\n",
       "    <tr style=\"text-align: right;\">\n",
       "      <th></th>\n",
       "      <th>id</th>\n",
       "      <th>name</th>\n",
       "      <th>host_id</th>\n",
       "      <th>host_name</th>\n",
       "      <th>neighbourhood_group</th>\n",
       "      <th>neighbourhood</th>\n",
       "      <th>latitude</th>\n",
       "      <th>longitude</th>\n",
       "      <th>room_type</th>\n",
       "      <th>price</th>\n",
       "      <th>minimum_nights</th>\n",
       "      <th>number_of_reviews</th>\n",
       "      <th>last_review</th>\n",
       "      <th>reviews_per_month</th>\n",
       "      <th>calculated_host_listings_count</th>\n",
       "      <th>availability_365</th>\n",
       "    </tr>\n",
       "  </thead>\n",
       "  <tbody>\n",
       "    <tr>\n",
       "      <th>0</th>\n",
       "      <td>1944</td>\n",
       "      <td>cafeheaven Pberg/Mitte</td>\n",
       "      <td>2164</td>\n",
       "      <td>Lulah</td>\n",
       "      <td>Mitte</td>\n",
       "      <td>Brunnenstr. Nord</td>\n",
       "      <td>52.54425</td>\n",
       "      <td>13.39749</td>\n",
       "      <td>Private room</td>\n",
       "      <td>21</td>\n",
       "      <td>60</td>\n",
       "      <td>18</td>\n",
       "      <td>2018-11-11</td>\n",
       "      <td>0.24</td>\n",
       "      <td>1</td>\n",
       "      <td>251</td>\n",
       "    </tr>\n",
       "    <tr>\n",
       "      <th>1</th>\n",
       "      <td>3176</td>\n",
       "      <td>Fabulous Flat in great Location</td>\n",
       "      <td>3718</td>\n",
       "      <td>Britta</td>\n",
       "      <td>Pankow</td>\n",
       "      <td>Prenzlauer Berg Südwest</td>\n",
       "      <td>52.53500</td>\n",
       "      <td>13.41758</td>\n",
       "      <td>Entire home/apt</td>\n",
       "      <td>90</td>\n",
       "      <td>62</td>\n",
       "      <td>145</td>\n",
       "      <td>2019-06-27</td>\n",
       "      <td>1.14</td>\n",
       "      <td>1</td>\n",
       "      <td>344</td>\n",
       "    </tr>\n",
       "    <tr>\n",
       "      <th>2</th>\n",
       "      <td>3309</td>\n",
       "      <td>BerlinSpot Schöneberg near KaDeWe</td>\n",
       "      <td>4108</td>\n",
       "      <td>Jana</td>\n",
       "      <td>Tempelhof - Schöneberg</td>\n",
       "      <td>Schöneberg-Nord</td>\n",
       "      <td>52.49885</td>\n",
       "      <td>13.34906</td>\n",
       "      <td>Private room</td>\n",
       "      <td>28</td>\n",
       "      <td>7</td>\n",
       "      <td>27</td>\n",
       "      <td>2019-05-31</td>\n",
       "      <td>0.35</td>\n",
       "      <td>1</td>\n",
       "      <td>317</td>\n",
       "    </tr>\n",
       "    <tr>\n",
       "      <th>3</th>\n",
       "      <td>6883</td>\n",
       "      <td>Stylish East Side Loft in Center with AC &amp; 2 b...</td>\n",
       "      <td>16149</td>\n",
       "      <td>Steffen</td>\n",
       "      <td>Friedrichshain-Kreuzberg</td>\n",
       "      <td>Frankfurter Allee Süd FK</td>\n",
       "      <td>52.51171</td>\n",
       "      <td>13.45477</td>\n",
       "      <td>Entire home/apt</td>\n",
       "      <td>125</td>\n",
       "      <td>3</td>\n",
       "      <td>128</td>\n",
       "      <td>2019-10-21</td>\n",
       "      <td>1.08</td>\n",
       "      <td>1</td>\n",
       "      <td>20</td>\n",
       "    </tr>\n",
       "    <tr>\n",
       "      <th>4</th>\n",
       "      <td>7071</td>\n",
       "      <td>BrightRoom with sunny greenview!</td>\n",
       "      <td>17391</td>\n",
       "      <td>BrightRoom</td>\n",
       "      <td>Pankow</td>\n",
       "      <td>Helmholtzplatz</td>\n",
       "      <td>52.54316</td>\n",
       "      <td>13.41509</td>\n",
       "      <td>Private room</td>\n",
       "      <td>33</td>\n",
       "      <td>3</td>\n",
       "      <td>266</td>\n",
       "      <td>2019-11-09</td>\n",
       "      <td>2.13</td>\n",
       "      <td>2</td>\n",
       "      <td>30</td>\n",
       "    </tr>\n",
       "  </tbody>\n",
       "</table>\n",
       "</div>"
      ],
      "text/plain": [
       "     id                                               name  host_id  \\\n",
       "0  1944                             cafeheaven Pberg/Mitte     2164   \n",
       "1  3176                    Fabulous Flat in great Location     3718   \n",
       "2  3309                  BerlinSpot Schöneberg near KaDeWe     4108   \n",
       "3  6883  Stylish East Side Loft in Center with AC & 2 b...    16149   \n",
       "4  7071                   BrightRoom with sunny greenview!    17391   \n",
       "\n",
       "    host_name       neighbourhood_group             neighbourhood  latitude  \\\n",
       "0       Lulah                     Mitte          Brunnenstr. Nord  52.54425   \n",
       "1      Britta                    Pankow   Prenzlauer Berg Südwest  52.53500   \n",
       "2        Jana    Tempelhof - Schöneberg           Schöneberg-Nord  52.49885   \n",
       "3     Steffen  Friedrichshain-Kreuzberg  Frankfurter Allee Süd FK  52.51171   \n",
       "4  BrightRoom                    Pankow            Helmholtzplatz  52.54316   \n",
       "\n",
       "   longitude        room_type  price  minimum_nights  number_of_reviews  \\\n",
       "0   13.39749     Private room     21              60                 18   \n",
       "1   13.41758  Entire home/apt     90              62                145   \n",
       "2   13.34906     Private room     28               7                 27   \n",
       "3   13.45477  Entire home/apt    125               3                128   \n",
       "4   13.41509     Private room     33               3                266   \n",
       "\n",
       "  last_review  reviews_per_month  calculated_host_listings_count  \\\n",
       "0  2018-11-11               0.24                               1   \n",
       "1  2019-06-27               1.14                               1   \n",
       "2  2019-05-31               0.35                               1   \n",
       "3  2019-10-21               1.08                               1   \n",
       "4  2019-11-09               2.13                               2   \n",
       "\n",
       "   availability_365  \n",
       "0               251  \n",
       "1               344  \n",
       "2               317  \n",
       "3                20  \n",
       "4                30  "
      ]
     },
     "execution_count": 2,
     "metadata": {},
     "output_type": "execute_result"
    }
   ],
   "source": [
    "import pandas as pd\n",
    "import numpy as np\n",
    "import matplotlib.pyplot as plt\n",
    "\n",
    "listing = pd.read_csv('listings.csv') #reading the listings dataset in a datafram called 'listing'\n",
    "listing.head() #displaying the enteries of the dataframe 'listing'"
   ]
  },
  {
   "cell_type": "code",
   "execution_count": 3,
   "metadata": {},
   "outputs": [
    {
     "data": {
      "text/plain": [
       "0.0"
      ]
     },
     "execution_count": 3,
     "metadata": {},
     "output_type": "execute_result"
    }
   ],
   "source": [
    "listing['room_type'].isnull().mean() #Checking if the 'room_type' column contains any NaN values"
   ]
  },
  {
   "cell_type": "code",
   "execution_count": 4,
   "metadata": {},
   "outputs": [
    {
     "data": {
      "text/plain": [
       "Entire home/apt    12381\n",
       "Private room       11616\n",
       "Hotel room           295\n",
       "Shared room          294\n",
       "Name: room_type, dtype: int64"
      ]
     },
     "execution_count": 4,
     "metadata": {},
     "output_type": "execute_result"
    }
   ],
   "source": [
    "different_room_types = listing['room_type'].value_counts() #Checking no. of different type of rooms types in Airbnb Berlin\n",
    "different_room_types"
   ]
  },
  {
   "cell_type": "code",
   "execution_count": 5,
   "metadata": {},
   "outputs": [
    {
     "data": {
      "text/plain": [
       "5760"
      ]
     },
     "execution_count": 5,
     "metadata": {},
     "output_type": "execute_result"
    }
   ],
   "source": [
    "listing['price'].idxmax() #print the index number of the max value in column 'price' (use just .max() to print only the max value in the column)"
   ]
  },
  {
   "cell_type": "code",
   "execution_count": 6,
   "metadata": {},
   "outputs": [
    {
     "name": "stdout",
     "output_type": "stream",
     "text": [
      "           id                              name   host_id host_name  \\\n",
      "5760  9651871  Über den Dächern Berlins Zentrum  49896804       NaN   \n",
      "\n",
      "       neighbourhood_group        neighbourhood  latitude  longitude  \\\n",
      "5760  Charlottenburg-Wilm.  Düsseldorfer Straße  52.49798   13.33444   \n",
      "\n",
      "            room_type  price  minimum_nights  number_of_reviews last_review  \\\n",
      "5760  Entire home/apt   9000             100                  1  2016-01-02   \n",
      "\n",
      "      reviews_per_month  calculated_host_listings_count  availability_365  \n",
      "5760               0.02                               1                 0  \n"
     ]
    }
   ],
   "source": [
    "print(listing.loc[[5760]]) #Code to print any particular index number (print entire row at that index number)"
   ]
  },
  {
   "cell_type": "code",
   "execution_count": 7,
   "metadata": {},
   "outputs": [
    {
     "data": {
      "text/plain": [
       "<matplotlib.axes._subplots.AxesSubplot at 0x26d1b01ef98>"
      ]
     },
     "execution_count": 7,
     "metadata": {},
     "output_type": "execute_result"
    },
    {
     "data": {
      "image/png": "[encoded data removed]",
      "text/plain": [
       "<Figure size 432x288 with 1 Axes>"
      ]
     },
     "metadata": {},
     "output_type": "display_data"
    }
   ],
   "source": [
    "Berlin_Median_plot = listing.groupby('room_type').price.median().sort_values(ascending=False).plot(kind='bar')\n",
    "Berlin_Median_plot\n",
    "# This plot shows the median price of room type of Airbnb in Berlin"
   ]
  },
  {
   "cell_type": "code",
   "execution_count": 8,
   "metadata": {},
   "outputs": [
    {
     "data": {
      "text/plain": [
       "<matplotlib.axes._subplots.AxesSubplot at 0x26d1b044b38>"
      ]
     },
     "execution_count": 8,
     "metadata": {},
     "output_type": "execute_result"
    },
    {
     "data": {
      "image/png": "[encoded data removed]",
      "text/plain": [
       "<Figure size 432x288 with 1 Axes>"
      ]
     },
     "metadata": {},
     "output_type": "display_data"
    }
   ],
   "source": [
    "Berlin_Mean_plot = listing.groupby('room_type').price.mean().sort_values(ascending=False).plot(kind='bar')\n",
    "Berlin_Mean_plot\n",
    "# This plot shows the mean price of room type of Airbnb in Berlin"
   ]
  },
  {
   "cell_type": "code",
   "execution_count": 9,
   "metadata": {},
   "outputs": [
    {
     "data": {
      "text/plain": [
       "room_type\n",
       "Hotel room         197\n",
       "Entire home/apt     70\n",
       "Private room        35\n",
       "Shared room         25\n",
       "Name: price, dtype: int64"
      ]
     },
     "execution_count": 9,
     "metadata": {},
     "output_type": "execute_result"
    }
   ],
   "source": [
    "Berlin_Median_values = listing.groupby('room_type').price.median().sort_values(ascending=False)\n",
    "Berlin_Median_values"
   ]
  },
  {
   "cell_type": "code",
   "execution_count": 10,
   "metadata": {},
   "outputs": [
    {
     "data": {
      "text/plain": [
       "room_type\n",
       "Hotel room         770.037288\n",
       "Entire home/apt     85.973912\n",
       "Private room        41.886794\n",
       "Shared room         34.214286\n",
       "Name: price, dtype: float64"
      ]
     },
     "execution_count": 10,
     "metadata": {},
     "output_type": "execute_result"
    }
   ],
   "source": [
    "Berlin_Mean_values = listing.groupby('room_type').price.mean().sort_values(ascending=False)\n",
    "Berlin_Mean_values"
   ]
  },
  {
   "cell_type": "code",
   "execution_count": null,
   "metadata": {},
   "outputs": [],
   "source": [
    "# So from the above comparison we can see that Mean and Median can have different effects on the overall values. \n",
    "# Sometimes taking the mean of all the values to represent the average might be a good idea and sometimes taking Median is a better approach.\n",
    "# From this example, we saw that when we take the Mean of all the price values of room_type 'Hotel room', it shows a very high number because there\n",
    "# there will be Hotels which costs 2000 per night. These kinds of values are outliers and they disturb the overall outcome and that is why we saw a very high mean value.\n",
    "# On the other hand taking Median proved to be a better approach because it sorts all the values in the ascending manner and takes the middle value, which in this case, is a better representation of the average price.\n",
    "# So to conclude, we can say that based on the scenario, we have to decide what is a better aproach to represent the average."
   ]
  }
 ],
 "metadata": {
  "kernelspec": {
   "display_name": "Python 3",
   "language": "python",
   "name": "python3"
  },
  "language_info": {
   "codemirror_mode": {
    "name": "ipython",
    "version": 3
   },
   "file_extension": ".py",
   "mimetype": "text/x-python",
   "name": "python",
   "nbconvert_exporter": "python",
   "pygments_lexer": "ipython3",
   "version": "3.6.5"
  }
 },
 "nbformat": 4,
 "nbformat_minor": 2
}
